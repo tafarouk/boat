{
 "cells": [
  {
   "cell_type": "code",
   "execution_count": 3,
   "metadata": {
    "collapsed": true,
    "scrolled": true
   },
   "outputs": [],
   "source": [
    "#Reading the HFRAdmin file\n",
    "import pandas as pd\n",
    "import numpy as np\n",
    "\n",
    "data=pd.read_csv(\"/Users/Tarek/ml/datasets/HFs/Dataset-HFRAdmin.csv\")\n"
   ]
  },
  {
   "cell_type": "code",
   "execution_count": 29,
   "metadata": {
    "scrolled": true
   },
   "outputs": [
    {
     "data": {
      "text/plain": [
       "<6424x7218 sparse matrix of type '<class 'numpy.float64'>'\n",
       "\twith 335843 stored elements in Compressed Sparse Row format>"
      ]
     },
     "execution_count": 29,
     "metadata": {},
     "output_type": "execute_result"
    }
   ],
   "source": [
    "\n",
    "#example of customizing the tokenizer in sklearn\n",
    "from sklearn.feature_extraction.text import TfidfVectorizer\n",
    "from sklearn.model_selection import train_test_split\n",
    "\n",
    "#Using NLTK\n",
    "from nltk.stem.snowball import SnowballStemmer\n",
    "from nltk import WordNetLemmatizer\n",
    "stemmer=SnowballStemmer(\"english\")\n",
    "wnl=WordNetLemmatizer()\n",
    "\n",
    "X=data['Strategy_Description']\n",
    "y=data.Main_Strategy + ' > ' + data.Sub_Strategy\n",
    "X_train,X_test,y_train,y_test=train_test_split(X,y,test_size=.33,random_state=42)\n",
    "\n",
    "def custom_normalizer(tokens):\n",
    "    \"\"\"Lemmatization, Stemming and Map numeric tokens to a placeholder.\n",
    "    \n",
    "    This is useful to use when numbers are not material \n",
    "    in our machine learning task. Lemmatization and stemming ensure that\n",
    "    words of the same meaning do not appear as seperate features\"\"\"\n",
    "    \n",
    "    for t in tokens:\n",
    "        if t[0].isdigit():\n",
    "            t='#NUMBER'\n",
    "        else:\n",
    "            t=wnl.lemmatize(t)\n",
    "            t=stemmer.stem(t)\n",
    "            #t=t\n",
    "        yield t\n",
    "\n",
    "class CustomVectorizer(TfidfVectorizer):\n",
    "    def build_tokenizer(self):\n",
    "        tokenize=super(CustomVectorizer,self).build_tokenizer()\n",
    "        return lambda doc: list(custom_normalizer(tokenize(doc)))\n",
    "\n",
    "    \n",
    "v=CustomVectorizer(stop_words='english',norm='l2',sublinear_tf=False,max_df=.5)\n",
    "X1=v.fit_transform(X_train)\n",
    "X1"
   ]
  },
  {
   "cell_type": "code",
   "execution_count": 32,
   "metadata": {},
   "outputs": [
    {
     "data": {
      "text/plain": [
       "'Relative Value > Fixed Income - Asset Backed'"
      ]
     },
     "execution_count": 32,
     "metadata": {},
     "output_type": "execute_result"
    }
   ],
   "source": [
    "y_test[0]"
   ]
  },
  {
   "cell_type": "code",
   "execution_count": 34,
   "metadata": {},
   "outputs": [
    {
     "data": {
      "text/plain": [
       "'The Fund aims to generate positive returns by taking advantage of the Quantitative Easing (QE) cycle using the duration and volatility characteristics of Interest Only securities (IOs), a class of mortgage backed securities.'"
      ]
     },
     "execution_count": 34,
     "metadata": {},
     "output_type": "execute_result"
    }
   ],
   "source": [
    "X_test[0]"
   ]
  },
  {
   "cell_type": "code",
   "execution_count": 36,
   "metadata": {},
   "outputs": [],
   "source": [
    "from sklearn.naive_bayes import MultinomialNB\n",
    "\n",
    "NBclf=MultinomialNB().fit(X1,y_train)"
   ]
  },
  {
   "cell_type": "code",
   "execution_count": 47,
   "metadata": {},
   "outputs": [
    {
     "data": {
      "text/plain": [
       "array(['Equity Hedge > Fundamental Value',\n",
       "       'Equity Hedge > Fundamental Value'],\n",
       "      dtype='<U59')"
      ]
     },
     "execution_count": 47,
     "metadata": {},
     "output_type": "execute_result"
    }
   ],
   "source": [
    "#testing \n",
    "X2=v.transform(X_test[0:2])\n",
    "prediction=NBclf.predict(X2)\n",
    "\n",
    "prediction"
   ]
  },
  {
   "cell_type": "code",
   "execution_count": 39,
   "metadata": {},
   "outputs": [
    {
     "data": {
      "text/plain": [
       "5145    Equity Hedge > Fundamental Value\n",
       "4230     Relative Value > Multi-Strategy\n",
       "dtype: object"
      ]
     },
     "execution_count": 39,
     "metadata": {},
     "output_type": "execute_result"
    }
   ],
   "source": [
    "y_test[0:2]"
   ]
  },
  {
   "cell_type": "code",
   "execution_count": 56,
   "metadata": {},
   "outputs": [
    {
     "data": {
      "text/plain": [
       "Pipeline(memory=None,\n",
       "     steps=[('vectorize', CustomVectorizer(analyzer='word', binary=False, decode_error='strict',\n",
       "         dtype=<class 'numpy.int64'>, encoding='utf-8', input='content',\n",
       "         lowercase=True, max_df=0.5, max_features=None, min_df=1,\n",
       "         ngram_range=(1, 1), norm='l2', preprocessor=None, smooth_idf...      vocabulary=None)), ('NBClassify', MultinomialNB(alpha=1.0, class_prior=None, fit_prior=True))])"
      ]
     },
     "execution_count": 56,
     "metadata": {},
     "output_type": "execute_result"
    }
   ],
   "source": [
    "from sklearn.pipeline import Pipeline\n",
    "\n",
    "NBPipeline=Pipeline([('vectorize',CustomVectorizer(stop_words='english',norm='l2',sublinear_tf=False,max_df=.5)),('NBClassify',MultinomialNB())])\n",
    "\n",
    "NBPipeline.fit(X_train,y_train)"
   ]
  },
  {
   "cell_type": "code",
   "execution_count": 57,
   "metadata": {},
   "outputs": [
    {
     "data": {
      "text/plain": [
       "0.34723538704581358"
      ]
     },
     "execution_count": 57,
     "metadata": {},
     "output_type": "execute_result"
    }
   ],
   "source": [
    "import numpy as np\n",
    "\n",
    "predicted=NBPipeline.predict(X_test)\n",
    "\n",
    "np.mean(predicted==y_test)"
   ]
  },
  {
   "cell_type": "code",
   "execution_count": null,
   "metadata": {
    "collapsed": true
   },
   "outputs": [],
   "source": []
  }
 ],
 "metadata": {
  "kernelspec": {
   "display_name": "Python 3",
   "language": "python",
   "name": "python3"
  },
  "language_info": {
   "codemirror_mode": {
    "name": "ipython",
    "version": 3
   },
   "file_extension": ".py",
   "mimetype": "text/x-python",
   "name": "python",
   "nbconvert_exporter": "python",
   "pygments_lexer": "ipython3",
   "version": "3.6.2"
  }
 },
 "nbformat": 4,
 "nbformat_minor": 2
}
