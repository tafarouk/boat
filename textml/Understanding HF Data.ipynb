{
 "cells": [
  {
   "cell_type": "code",
   "execution_count": 1,
   "metadata": {
    "collapsed": true
   },
   "outputs": [],
   "source": [
    "#Reading the HFRAdmin file\n",
    "import pandas as pd\n",
    "import numpy as np\n",
    "\n",
    "data=pd.read_csv(\"/Users/Tarek/ml/datasets/HFs/Dataset-HFRAdmin.csv\")\n"
   ]
  },
  {
   "cell_type": "code",
   "execution_count": 3,
   "metadata": {},
   "outputs": [
    {
     "name": "stdout",
     "output_type": "stream",
     "text": [
      "9 {'HFRI', 'HFRU', 'Equity Hedge', 'Macro', 'HFRX', 'Relative Value', 'HFRL', 'Event-Driven', 'Fund of Funds'}\n",
      "37 {'Currency - Discretionary', 'Fixed Income - Asset Backed', 'Active Trading', 'Volatility', 'Commodity - Energy', 'Sector - Healthcare', 'Commodity - Multi', 'Multi-Strategy', 'Sector - Technology', 'Yield Alternatives - Energy Infrastructure', 'Credit Arbitrage', 'Sector - Energy/Basic Materials', 'Systematic Diversified', 'Discretionary Thematic', 'Fundamental Value', 'Special Situations', 'Strategic', 'Distressed/Restructuring', 'Quantitative Directional', 'Currency - Systematic', 'Diversified', 'Fixed Income - Sovereign', 'Equity Market Neutral', 'Index', 'Yield Alternatives - Real Estate', 'Commodity - Metals', 'Private Issue/Regulation D', 'Sector - Technology/Healthcare', 'Merger Arbitrage', 'Activist', 'Conservative', 'Commodity - Agriculture', 'Fundamental Growth', 'Market Defensive', 'Short Bias', 'Fixed Income - Corporate', 'Fixed Income - Convertible Arbitrage'}\n",
      "43 {'Relative Value > Fixed Income - Corporate', 'Event-Driven > Multi-Strategy', 'Relative Value > Fixed Income - Convertible Arbitrage', 'Event-Driven > Distressed/Restructuring', 'Relative Value > Multi-Strategy', 'Equity Hedge > Quantitative Directional', 'Fund of Funds > Diversified', 'Relative Value > Yield Alternatives - Energy Infrastructure', 'Equity Hedge > Fundamental Growth', 'Equity Hedge > Sector - Technology/Healthcare', 'Equity Hedge > Sector - Technology', 'Macro > Currency - Discretionary', 'Macro > Commodity - Energy', 'Macro > Currency - Systematic', 'Macro > Discretionary Thematic', 'Macro > Multi-Strategy', 'Macro > Commodity - Multi', 'Equity Hedge > Sector - Energy/Basic Materials', 'Event-Driven > Merger Arbitrage', 'Relative Value > Yield Alternatives - Real Estate', 'Equity Hedge > Equity Market Neutral', 'Event-Driven > Credit Arbitrage', 'Event-Driven > Private Issue/Regulation D', 'Fund of Funds > Conservative', 'Equity Hedge > Fundamental Value', 'HFRU > Index', 'Event-Driven > Activist', 'Event-Driven > Special Situations', 'Relative Value > Volatility', 'Equity Hedge > Sector - Healthcare', 'Macro > Systematic Diversified', 'Fund of Funds > Strategic', 'Relative Value > Fixed Income - Sovereign', 'Fund of Funds > Market Defensive', 'Relative Value > Fixed Income - Asset Backed', 'Macro > Commodity - Metals', 'HFRX > Index', 'HFRL > Index', 'Macro > Commodity - Agriculture', 'Macro > Active Trading', 'HFRI > Index', 'Equity Hedge > Multi-Strategy', 'Equity Hedge > Short Bias'}\n"
     ]
    },
    {
     "data": {
      "text/plain": [
       "0            Relative Value > Fixed Income - Asset Backed\n",
       "1                               Fund of Funds > Strategic\n",
       "2                               Fund of Funds > Strategic\n",
       "3                                            HFRI > Index\n",
       "4                        Equity Hedge > Fundamental Value\n",
       "5                        Equity Hedge > Fundamental Value\n",
       "6          Equity Hedge > Sector - Energy/Basic Materials\n",
       "7                        Equity Hedge > Fundamental Value\n",
       "8               Relative Value > Fixed Income - Corporate\n",
       "9                        Equity Hedge > Fundamental Value\n",
       "10              Relative Value > Fixed Income - Corporate\n",
       "11              Relative Value > Fixed Income - Corporate\n",
       "12                   Equity Hedge > Equity Market Neutral\n",
       "13                              Macro > Commodity - Multi\n",
       "14                         Macro > Systematic Diversified\n",
       "15                           Fund of Funds > Conservative\n",
       "16                         Macro > Systematic Diversified\n",
       "17                                           HFRI > Index\n",
       "18                       Equity Hedge > Fundamental Value\n",
       "19              Relative Value > Fixed Income - Corporate\n",
       "20                       Equity Hedge > Fundamental Value\n",
       "21                       Equity Hedge > Fundamental Value\n",
       "22                       Equity Hedge > Fundamental Value\n",
       "23                          Macro > Currency - Systematic\n",
       "24                       Equity Hedge > Fundamental Value\n",
       "25                            Fund of Funds > Diversified\n",
       "26                       Equity Hedge > Fundamental Value\n",
       "27                           Fund of Funds > Conservative\n",
       "28                       Equity Hedge > Fundamental Value\n",
       "29                              Fund of Funds > Strategic\n",
       "                              ...                        \n",
       "9559                     Equity Hedge > Fundamental Value\n",
       "9560    Relative Value > Fixed Income - Convertible Ar...\n",
       "9561                     Equity Hedge > Fundamental Value\n",
       "9562                     Macro > Currency - Discretionary\n",
       "9563                       Macro > Discretionary Thematic\n",
       "9564                    Equity Hedge > Fundamental Growth\n",
       "9565            Relative Value > Fixed Income - Sovereign\n",
       "9566                 Equity Hedge > Equity Market Neutral\n",
       "9567    Relative Value > Fixed Income - Convertible Ar...\n",
       "9568                 Equity Hedge > Equity Market Neutral\n",
       "9569                     Equity Hedge > Fundamental Value\n",
       "9570                 Equity Hedge > Equity Market Neutral\n",
       "9571                 Equity Hedge > Equity Market Neutral\n",
       "9572       Equity Hedge > Sector - Energy/Basic Materials\n",
       "9573            Relative Value > Fixed Income - Corporate\n",
       "9574                       Macro > Discretionary Thematic\n",
       "9575    Relative Value > Fixed Income - Convertible Ar...\n",
       "9576                 Equity Hedge > Equity Market Neutral\n",
       "9577                          Fund of Funds > Diversified\n",
       "9578                            Fund of Funds > Strategic\n",
       "9579                            Fund of Funds > Strategic\n",
       "9580                          Fund of Funds > Diversified\n",
       "9581                            Fund of Funds > Strategic\n",
       "9582                     Equity Hedge > Fundamental Value\n",
       "9583            Relative Value > Fixed Income - Corporate\n",
       "9584            Relative Value > Fixed Income - Corporate\n",
       "9585                     Equity Hedge > Fundamental Value\n",
       "9586                     Equity Hedge > Fundamental Value\n",
       "9587                    Equity Hedge > Fundamental Growth\n",
       "9588                    Equity Hedge > Fundamental Growth\n",
       "Length: 9589, dtype: object"
      ]
     },
     "execution_count": 3,
     "metadata": {},
     "output_type": "execute_result"
    }
   ],
   "source": [
    "lbl1=set(data.Main_Strategy)\n",
    "print(len(lbl1),lbl1)\n",
    "lbl2=set(data.Sub_Strategy)\n",
    "print(len(lbl2), lbl2)\n",
    "lbl3=set(data.Main_Strategy + ' > ' + data.Sub_Strategy)\n",
    "print(len(lbl3),lbl3)\n",
    "data.Main_Strategy + ' > ' + data.Sub_Strategy"
   ]
  },
  {
   "cell_type": "code",
   "execution_count": null,
   "metadata": {
    "collapsed": true
   },
   "outputs": [],
   "source": []
  }
 ],
 "metadata": {
  "kernelspec": {
   "display_name": "Python 3",
   "language": "python",
   "name": "python3"
  },
  "language_info": {
   "codemirror_mode": {
    "name": "ipython",
    "version": 3
   },
   "file_extension": ".py",
   "mimetype": "text/x-python",
   "name": "python",
   "nbconvert_exporter": "python",
   "pygments_lexer": "ipython3",
   "version": "3.6.2"
  }
 },
 "nbformat": 4,
 "nbformat_minor": 2
}
